{
 "cells": [
  {
   "cell_type": "markdown",
   "metadata": {},
   "source": [
    "## Python Optimizations: Interning"
   ]
  },
  {
   "cell_type": "markdown",
   "metadata": {},
   "source": [
    "Python create shared references automatically"
   ]
  },
  {
   "cell_type": "code",
   "execution_count": 1,
   "metadata": {
    "ExecuteTime": {
     "end_time": "2020-12-15T15:14:02.606414Z",
     "start_time": "2020-12-15T15:14:02.593726Z"
    }
   },
   "outputs": [
    {
     "name": "stdout",
     "output_type": "stream",
     "text": [
      "94891096948320\n",
      "94891096948320\n"
     ]
    }
   ],
   "source": [
    "a = 10\n",
    "b = 10\n",
    "print(id(a))\n",
    "print(id(b))"
   ]
  },
  {
   "cell_type": "markdown",
   "metadata": {},
   "source": [
    "Note how `a` and `b` reference the same object.\n",
    "\n",
    "But consider the following example:"
   ]
  },
  {
   "cell_type": "code",
   "execution_count": 2,
   "metadata": {
    "ExecuteTime": {
     "end_time": "2020-12-15T15:15:36.015367Z",
     "start_time": "2020-12-15T15:15:36.000702Z"
    }
   },
   "outputs": [
    {
     "name": "stdout",
     "output_type": "stream",
     "text": [
      "139684958999280\n",
      "139684959000944\n"
     ]
    }
   ],
   "source": [
    "a = 5000\n",
    "b = 5000\n",
    "print(id(a))\n",
    "print(id(b))"
   ]
  },
  {
   "cell_type": "markdown",
   "metadata": {},
   "source": [
    "As you can see, the variables a and b do not point to the same object! This is because Python pre-caches integer objects in the range **[-5, 256]**\n"
   ]
  },
  {
   "cell_type": "code",
   "execution_count": 3,
   "metadata": {
    "ExecuteTime": {
     "end_time": "2020-12-15T15:35:13.319012Z",
     "start_time": "2020-12-15T15:35:13.308649Z"
    }
   },
   "outputs": [
    {
     "name": "stdout",
     "output_type": "stream",
     "text": [
      "94891096956192 94891096956192 94891096947840 94891096947840\n"
     ]
    }
   ],
   "source": [
    "a = 256\n",
    "b = 256\n",
    "c = -5\n",
    "d = -5\n",
    "print(id(a), id(b), id(c), id(d))\n",
    "# we have the same memory address"
   ]
  },
  {
   "cell_type": "markdown",
   "metadata": {},
   "source": [
    "This is called **interning**: Python interns the integers in the range [-5, 256]. The integers in the range [-5, 256] are essentially **singleton** objects."
   ]
  },
  {
   "cell_type": "code",
   "execution_count": 5,
   "metadata": {
    "ExecuteTime": {
     "end_time": "2020-12-15T15:37:25.239452Z",
     "start_time": "2020-12-15T15:37:25.227631Z"
    }
   },
   "outputs": [
    {
     "name": "stdout",
     "output_type": "stream",
     "text": [
      "10 10 10 10\n"
     ]
    }
   ],
   "source": [
    "a = 10\n",
    "b = int(10)\n",
    "c = int('10')\n",
    "d = int('1010', 2)\n",
    "print(a, b, c, d)"
   ]
  },
  {
   "cell_type": "code",
   "execution_count": 8,
   "metadata": {
    "ExecuteTime": {
     "end_time": "2020-12-15T15:39:05.522535Z",
     "start_time": "2020-12-15T15:39:05.513615Z"
    }
   },
   "outputs": [
    {
     "name": "stdout",
     "output_type": "stream",
     "text": [
      "True\n",
      "True\n",
      "True\n"
     ]
    }
   ],
   "source": [
    "# chek the memory address\n",
    "print(a is b)\n",
    "print(a is c) \n",
    "print(a is d)"
   ]
  },
  {
   "cell_type": "markdown",
   "metadata": {},
   "source": [
    "As we can see, all these variables were created in different ways, but since the integer object with value 10 behaves like a singleton, they all ended up pointing to the **same** object in memory."
   ]
  },
  {
   "cell_type": "markdown",
   "metadata": {},
   "source": [
    "## Python Optimizations: String Interning"
   ]
  },
  {
   "cell_type": "markdown",
   "metadata": {},
   "source": [
    "Python will automatically intern *certain* strings. In particular all the identifiers (variable names, function names, class names, etc) are interned (singleton objects created).\n",
    "\n",
    "Python will also intern string literals that look like identifiers.\n",
    "\n",
    "For example:"
   ]
  },
  {
   "cell_type": "code",
   "execution_count": 10,
   "metadata": {
    "ExecuteTime": {
     "end_time": "2020-12-15T15:41:44.182178Z",
     "start_time": "2020-12-15T15:41:44.170945Z"
    }
   },
   "outputs": [
    {
     "name": "stdout",
     "output_type": "stream",
     "text": [
      "139684960705264\n",
      "139684960705264\n",
      "-----------\n",
      "139684958761456\n",
      "139684958761904\n"
     ]
    }
   ],
   "source": [
    "a = 'hello'\n",
    "b = 'hello'\n",
    "print(id(a))\n",
    "print(id(b))\n",
    "print('-----------')\n",
    "c = 'hello, world!'\n",
    "d = 'hello, world!'\n",
    "print(id(c))\n",
    "print(id(d))"
   ]
  },
  {
   "cell_type": "markdown",
   "metadata": {},
   "source": [
    "However, because the following literals resemble identifiers, even though they are quite long, Python will still automatically intern them:"
   ]
  },
  {
   "cell_type": "code",
   "execution_count": 11,
   "metadata": {
    "ExecuteTime": {
     "end_time": "2020-12-15T15:42:47.498249Z",
     "start_time": "2020-12-15T15:42:47.495235Z"
    }
   },
   "outputs": [
    {
     "name": "stdout",
     "output_type": "stream",
     "text": [
      "139684959526832\n",
      "139684959526832\n"
     ]
    }
   ],
   "source": [
    "a = 'hello_world'\n",
    "b = 'hello_world'\n",
    "print(id(a))\n",
    "print(id(b))"
   ]
  },
  {
   "cell_type": "code",
   "execution_count": 13,
   "metadata": {
    "ExecuteTime": {
     "end_time": "2020-12-15T15:43:44.404269Z",
     "start_time": "2020-12-15T15:43:44.391464Z"
    }
   },
   "outputs": [
    {
     "name": "stdout",
     "output_type": "stream",
     "text": [
      "139684964844976\n",
      "139684964844976\n"
     ]
    }
   ],
   "source": [
    "# even longer\n",
    "a = '_this_is_a_long_string_that_could_be_used_as_an_identifier_ooooooooooo'\n",
    "b = '_this_is_a_long_string_that_could_be_used_as_an_identifier_ooooooooooo'\n",
    "print(id(a))\n",
    "print(id(b))"
   ]
  },
  {
   "cell_type": "markdown",
   "metadata": {},
   "source": [
    "Interning strings (making them singleton objects) means that testing for string equality can be done faster by comparing the memory address:"
   ]
  },
  {
   "cell_type": "code",
   "execution_count": 14,
   "metadata": {
    "ExecuteTime": {
     "end_time": "2020-12-15T15:44:23.683804Z",
     "start_time": "2020-12-15T15:44:23.669836Z"
    }
   },
   "outputs": [
    {
     "name": "stdout",
     "output_type": "stream",
     "text": [
      "a==b: True\n",
      "a is b: True\n"
     ]
    }
   ],
   "source": [
    "a = 'this_is_a_long_string'\n",
    "b = 'this_is_a_long_string'\n",
    "print('a==b:', a == b)\n",
    "print('a is b:', a is b)"
   ]
  },
  {
   "cell_type": "markdown",
   "metadata": {},
   "source": [
    "#### <font color=\"red\">Note: Remember, using `is` ONLY works if the strings were interned!</font>\n",
    "\n",
    "Here's where this technique fails:"
   ]
  },
  {
   "cell_type": "code",
   "execution_count": 15,
   "metadata": {
    "ExecuteTime": {
     "end_time": "2020-12-15T15:45:31.063186Z",
     "start_time": "2020-12-15T15:45:31.052788Z"
    }
   },
   "outputs": [
    {
     "name": "stdout",
     "output_type": "stream",
     "text": [
      "a==b: True\n",
      "a is b: False\n"
     ]
    }
   ],
   "source": [
    "a = 'hello world'\n",
    "b = 'hello world'\n",
    "print('a==b:', a==b)\n",
    "print('a is b:', a is b)"
   ]
  },
  {
   "cell_type": "markdown",
   "metadata": {
    "ExecuteTime": {
     "end_time": "2020-12-15T15:45:45.888254Z",
     "start_time": "2020-12-15T15:45:45.879723Z"
    }
   },
   "source": [
    "You *can* force strings to be interned (but only use it if you have a valid performance optimization need):"
   ]
  },
  {
   "cell_type": "code",
   "execution_count": 17,
   "metadata": {
    "ExecuteTime": {
     "end_time": "2020-12-15T15:46:35.755173Z",
     "start_time": "2020-12-15T15:46:35.740456Z"
    }
   },
   "outputs": [
    {
     "name": "stdout",
     "output_type": "stream",
     "text": [
      "139684958923696\n",
      "139684958923696\n",
      "139684958921072\n"
     ]
    }
   ],
   "source": [
    "import sys\n",
    "\n",
    "a = sys.intern('hello world')\n",
    "b = sys.intern('hello world')\n",
    "c = 'hello world'\n",
    "print(id(a))\n",
    "print(id(b))\n",
    "print(id(c))"
   ]
  },
  {
   "cell_type": "markdown",
   "metadata": {},
   "source": [
    "Notice how `a` and `b` are pointing to the same object, but `c` is **NOT**.\n",
    "\n",
    "So, since both `a` and `b` were interned we can use `is` to test for equality of the two strings:"
   ]
  },
  {
   "cell_type": "code",
   "execution_count": 18,
   "metadata": {
    "ExecuteTime": {
     "end_time": "2020-12-15T15:47:02.717161Z",
     "start_time": "2020-12-15T15:47:02.708687Z"
    }
   },
   "outputs": [
    {
     "name": "stdout",
     "output_type": "stream",
     "text": [
      "a==b: True\n",
      "a is b: True\n"
     ]
    }
   ],
   "source": [
    "print('a==b:', a==b)\n",
    "print('a is b:', a is b)"
   ]
  },
  {
   "cell_type": "markdown",
   "metadata": {},
   "source": [
    "So, does interning really make a big speed difference?\n",
    "\n",
    "Yes, but only if you are performing a *lot* of comparisons. Let's run some quick and dirty benchmarks:"
   ]
  },
  {
   "cell_type": "code",
   "execution_count": 19,
   "metadata": {
    "ExecuteTime": {
     "end_time": "2020-12-15T15:48:08.519345Z",
     "start_time": "2020-12-15T15:48:08.511550Z"
    }
   },
   "outputs": [],
   "source": [
    "def compare_using_equals(n):\n",
    "    a = 'a long string that is not interned' * 200\n",
    "    b = 'a long string that is not interned' * 200\n",
    "    for i in range(n):\n",
    "        if a == b:\n",
    "            pass"
   ]
  },
  {
   "cell_type": "code",
   "execution_count": 20,
   "metadata": {
    "ExecuteTime": {
     "end_time": "2020-12-15T15:48:19.949135Z",
     "start_time": "2020-12-15T15:48:19.939527Z"
    }
   },
   "outputs": [],
   "source": [
    "def compare_using_interning(n):\n",
    "    a = sys.intern('a long string that is not interned' * 200)\n",
    "    b = sys.intern('a long string that is not interned' * 200)\n",
    "    for i in range(n):\n",
    "        if a is b:\n",
    "            pass"
   ]
  },
  {
   "cell_type": "code",
   "execution_count": 21,
   "metadata": {
    "ExecuteTime": {
     "end_time": "2020-12-15T15:48:32.995257Z",
     "start_time": "2020-12-15T15:48:31.903824Z"
    }
   },
   "outputs": [
    {
     "name": "stdout",
     "output_type": "stream",
     "text": [
      "equality:  1.0860573120007757\n"
     ]
    }
   ],
   "source": [
    "import time\n",
    "\n",
    "start = time.perf_counter()\n",
    "compare_using_equals(10000000)\n",
    "end = time.perf_counter()\n",
    "\n",
    "print('equality: ', end-start)"
   ]
  },
  {
   "cell_type": "code",
   "execution_count": 22,
   "metadata": {
    "ExecuteTime": {
     "end_time": "2020-12-15T15:48:43.336622Z",
     "start_time": "2020-12-15T15:48:43.076364Z"
    }
   },
   "outputs": [
    {
     "name": "stdout",
     "output_type": "stream",
     "text": [
      "identity:  0.2549713740008883\n"
     ]
    }
   ],
   "source": [
    "start = time.perf_counter()\n",
    "compare_using_interning(10000000)\n",
    "end = time.perf_counter()\n",
    "\n",
    "print('identity: ', end-start)"
   ]
  },
  {
   "cell_type": "markdown",
   "metadata": {},
   "source": [
    "As you can see, the performance difference, especially for long strings, and for many comparisons, can be quite radical!"
   ]
  }
 ],
 "metadata": {
  "kernelspec": {
   "display_name": "Python 3",
   "language": "python",
   "name": "python3"
  },
  "language_info": {
   "codemirror_mode": {
    "name": "ipython",
    "version": 3
   },
   "file_extension": ".py",
   "mimetype": "text/x-python",
   "name": "python",
   "nbconvert_exporter": "python",
   "pygments_lexer": "ipython3",
   "version": "3.8.3"
  },
  "varInspector": {
   "cols": {
    "lenName": 16,
    "lenType": 16,
    "lenVar": 40
   },
   "kernels_config": {
    "python": {
     "delete_cmd_postfix": "",
     "delete_cmd_prefix": "del ",
     "library": "var_list.py",
     "varRefreshCmd": "print(var_dic_list())"
    },
    "r": {
     "delete_cmd_postfix": ") ",
     "delete_cmd_prefix": "rm(",
     "library": "var_list.r",
     "varRefreshCmd": "cat(var_dic_list()) "
    }
   },
   "types_to_exclude": [
    "module",
    "function",
    "builtin_function_or_method",
    "instance",
    "_Feature"
   ],
   "window_display": false
  }
 },
 "nbformat": 4,
 "nbformat_minor": 4
}
