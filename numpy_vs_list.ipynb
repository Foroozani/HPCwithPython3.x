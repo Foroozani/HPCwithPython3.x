{
 "cells": [
  {
   "cell_type": "markdown",
   "metadata": {},
   "source": [
    "# Numpy vs List in python \n",
    "\n",
    "Two main reason, Numpy is faster and accupy less memory. Lets look at example here "
   ]
  },
  {
   "cell_type": "code",
   "execution_count": 1,
   "metadata": {
    "ExecuteTime": {
     "end_time": "2020-12-08T17:36:37.173380Z",
     "start_time": "2020-12-08T17:36:37.164260Z"
    }
   },
   "outputs": [],
   "source": [
    "import numpy \n",
    "import sys \n",
    "import time "
   ]
  },
  {
   "cell_type": "code",
   "execution_count": 2,
   "metadata": {
    "ExecuteTime": {
     "end_time": "2020-12-08T17:36:39.906352Z",
     "start_time": "2020-12-08T17:36:39.900542Z"
    }
   },
   "outputs": [],
   "source": [
    "size = 10000000"
   ]
  },
  {
   "cell_type": "code",
   "execution_count": 3,
   "metadata": {
    "ExecuteTime": {
     "end_time": "2020-12-08T17:36:42.805892Z",
     "start_time": "2020-12-08T17:36:42.378151Z"
    }
   },
   "outputs": [],
   "source": [
    "first_list = list(range(size))\n",
    "second_list = list(range(size))"
   ]
  },
  {
   "cell_type": "code",
   "execution_count": 4,
   "metadata": {
    "ExecuteTime": {
     "end_time": "2020-12-08T17:37:07.719004Z",
     "start_time": "2020-12-08T17:37:07.668418Z"
    }
   },
   "outputs": [],
   "source": [
    "np_first = np.arange(size)\n",
    "np_second = np.arange(size)"
   ]
  },
  {
   "cell_type": "markdown",
   "metadata": {},
   "source": [
    "Let us add two lists "
   ]
  },
  {
   "cell_type": "code",
   "execution_count": 5,
   "metadata": {
    "ExecuteTime": {
     "end_time": "2020-12-08T17:37:16.714734Z",
     "start_time": "2020-12-08T17:37:15.349660Z"
    }
   },
   "outputs": [
    {
     "name": "stdout",
     "output_type": "stream",
     "text": [
      "Traditional list take 1.3610475063323975 second\n",
      "Traditional list take 280000000\n"
     ]
    }
   ],
   "source": [
    "start = time.time()\n",
    "result = [(x + y) for x,y in list(zip(first_list, second_list))]\n",
    "print('Traditional list take', (time.time() - start), 'second')\n",
    "print('Traditional list take', sys.getsizeof(1)* len(result))"
   ]
  },
  {
   "cell_type": "code",
   "execution_count": 7,
   "metadata": {
    "ExecuteTime": {
     "end_time": "2020-12-08T17:38:40.772513Z",
     "start_time": "2020-12-08T17:38:40.731630Z"
    }
   },
   "outputs": [
    {
     "name": "stdout",
     "output_type": "stream",
     "text": [
      "Numpy array take 0.03400230407714844 second\n",
      "Numpy array take 80000000\n"
     ]
    }
   ],
   "source": [
    "start = time.time()\n",
    "result = np_first + np_second\n",
    "print('Numpy array take', (time.time() - start), 'second')\n",
    "print('Numpy array take', result.itemsize * result.size )"
   ]
  }
 ],
 "metadata": {
  "kernelspec": {
   "display_name": "Python 3",
   "language": "python",
   "name": "python3"
  },
  "language_info": {
   "codemirror_mode": {
    "name": "ipython",
    "version": 3
   },
   "file_extension": ".py",
   "mimetype": "text/x-python",
   "name": "python",
   "nbconvert_exporter": "python",
   "pygments_lexer": "ipython3",
   "version": "3.8.3"
  },
  "varInspector": {
   "cols": {
    "lenName": 16,
    "lenType": 16,
    "lenVar": 40
   },
   "kernels_config": {
    "python": {
     "delete_cmd_postfix": "",
     "delete_cmd_prefix": "del ",
     "library": "var_list.py",
     "varRefreshCmd": "print(var_dic_list())"
    },
    "r": {
     "delete_cmd_postfix": ") ",
     "delete_cmd_prefix": "rm(",
     "library": "var_list.r",
     "varRefreshCmd": "cat(var_dic_list()) "
    }
   },
   "position": {
    "height": "360.85px",
    "left": "1396px",
    "right": "20px",
    "top": "69px",
    "width": "464px"
   },
   "types_to_exclude": [
    "module",
    "function",
    "builtin_function_or_method",
    "instance",
    "_Feature"
   ],
   "window_display": true
  }
 },
 "nbformat": 4,
 "nbformat_minor": 4
}
